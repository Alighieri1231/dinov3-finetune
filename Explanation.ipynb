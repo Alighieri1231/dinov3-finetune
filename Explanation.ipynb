{
 "cells": [
  {
   "cell_type": "code",
   "execution_count": 1,
   "id": "caae47a8-38f0-4c4d-a017-4dc712946365",
   "metadata": {},
   "outputs": [],
   "source": []
  },
  {
   "cell_type": "code",
   "execution_count": null,
   "id": "acdd05a5",
   "metadata": {},
   "outputs": [],
   "source": [
    "# Self-Supervised Learning, vs. semi- or unsupverised"
   ]
  },
  {
   "cell_type": "code",
   "execution_count": null,
   "id": "1226cdd0",
   "metadata": {},
   "outputs": [],
   "source": [
    "# Importance of ViT, DINOv2 Approach"
   ]
  },
  {
   "cell_type": "code",
   "execution_count": null,
   "id": "f5d8e782",
   "metadata": {},
   "outputs": [],
   "source": [
    "# Emerging properties of DINOv2"
   ]
  },
  {
   "cell_type": "code",
   "execution_count": null,
   "id": "fe07b5f8",
   "metadata": {},
   "outputs": [],
   "source": [
    "# LoRA finetuning, significant improvement"
   ]
  },
  {
   "cell_type": "code",
   "execution_count": null,
   "id": "453a86fb",
   "metadata": {},
   "outputs": [],
   "source": [
    "# Semantic Segmentation"
   ]
  },
  {
   "cell_type": "code",
   "execution_count": null,
   "id": "116f8df8",
   "metadata": {},
   "outputs": [],
   "source": [
    "# Instance segmentation"
   ]
  },
  {
   "cell_type": "code",
   "execution_count": null,
   "id": "6ef37fb5",
   "metadata": {},
   "outputs": [],
   "source": []
  },
  {
   "cell_type": "code",
   "execution_count": null,
   "id": "980cb8de",
   "metadata": {},
   "outputs": [],
   "source": []
  },
  {
   "cell_type": "code",
   "execution_count": null,
   "id": "6b2669b4-a318-4ba0-8100-a35ce6a3e7c6",
   "metadata": {},
   "outputs": [],
   "source": []
  }
 ],
 "metadata": {
  "kernelspec": {
   "display_name": "Python 3 (ipykernel)",
   "language": "python",
   "name": "python3"
  },
  "language_info": {
   "codemirror_mode": {
    "name": "ipython",
    "version": 3
   },
   "file_extension": ".py",
   "mimetype": "text/x-python",
   "name": "python",
   "nbconvert_exporter": "python",
   "pygments_lexer": "ipython3",
   "version": "3.11.9"
  }
 },
 "nbformat": 4,
 "nbformat_minor": 5
}
