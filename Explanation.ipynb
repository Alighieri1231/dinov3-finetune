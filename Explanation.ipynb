{
 "cells": [
  {
   "attachments": {},
   "cell_type": "markdown",
   "id": "e3d0acf3",
   "metadata": {},
   "source": [
    "# Finetuning Transferable Pre-Trained Weights\n",
    "\n",
    "In this notebook I walk through the benefits of using DINOv2 (Oquab et al., 2024) pre-trained encoder weights for finetuning on dense prediction tasks such as Image Segmentation. Combining good pre-trained weights with parameter-efficient finetuning (PEFT), such as Low-Rank Adaptation (Hu et al., 2021) (LoRA) allows models such as LLM to quickly finetune to specific tasks but also work in the vision domain. These methods add a small percentage (around 5-6%) of learnable parameters to the encoder, by inserting them between the encoder blocks and keeping the pre-trained weights frozen. In comparison to finetuning whole blocks in the encoder, finetuning only a small percentage of parameters and the decoder makes for shorter training times.\n",
    "\n",
    "Below an example of three different scenarios for finetuning neural networks, for different downstream tasks. The most naive approach is to finetune just the decoder head which outputs the segmentation predictions in our scenario. The second approach is to also unfreeze some of the final encoder blocks to achieve better tuning to the downstream task. The third approach is by using LoRA to finetune the intermediate matrices A and B, and the decoder head.\n",
    "\n",
    "<div style=\"text-align: center;\">\n",
    "<img src=\"assets/examples/finetuning.png\" alt=\"Different approaches to finetuning\" width=\"70%\"/>\n",
    "</div>"
   ]
  },
  {
   "attachments": {},
   "cell_type": "markdown",
   "id": "71fd9819-c2ef-4387-8ed4-ddf3d63a5fe7",
   "metadata": {},
   "source": [
    "## Pre-Trained ViTs\n",
    "Vision Transformer (ViT) (Dosovitskiy et al., 2021) models work by splitting an image into fixed-size patches, similar to tokens in NLP. Each patch is linearly embedded, combined with positional encodings, and then fed into a standard Transformer architecture. Unlike CNNs, which apply convolutional filters, ViTs process these patches using self-attention mechanisms to capture global relationships. This allows ViTs to effectively learn and represent the entire image context. The model's output is a class token that summarizes the information from all patches, which can then be used for classification. However, by changing out the head or decoder you can essentially use any downstream task.\n",
    "\n",
    "<div style=\"text-align: center;\">\n",
    "<img src=\"assets/examples/vit.png\" alt=\"ViT\" width=\"50%\"/>\n",
    "</div>\n",
    "\n",
    "The first self-**di**stillation with **no** labels (DINO) method already used ViT in combination with self-supervised learning to learn strong pre-trained encoders. With the motivation to see similar successes in the vision domain, as self-supervised pretraining has in the natural language domain with models such as BERT, or GPT. In short, they use knowledge distillation in combination with a smart self-supervised (SSL) loss function that essentially pushes the network to cluster the embeddings based on content in the image. They notice that with pre-training ViT networks exhibit stronger performance in a number of benchmarks, such as image retrieval, video instance segmentation without any finetuning. As the heads in the ViT networks capture important features in the image (See example from the paper below).\n",
    "\n",
    "<div style=\"text-align: center;\">\n",
    "<img src=\"assets/examples/emerging_properties.png\" alt=\"Example used in the DINO paper\" width=\"50%\"/>\n",
    "</div>\n",
    "\n",
    "DINOv2 (Oquab et al., 2024) further improves the DINO by modifying many parts of the approach, but probably most importantly adding the idea of masked image modelling. This approach works by masking some of the input patches to the ViT network, and letting the network essentially predict what is in the masked parts of the image. This is speculated to be one of the most important additions to achieve good performance on downstream tasks such as image segmentation."
   ]
  },
  {
   "cell_type": "markdown",
   "id": "daa81c3b-8b3a-452a-8c44-e9790ec29580",
   "metadata": {},
   "source": [
    "To demonstrate what features the encoder weights capture, we can recreate the popular example they show in the DINOv2 paper."
   ]
  },
  {
   "cell_type": "code",
   "execution_count": 1,
   "id": "5affb6f2-7114-45e7-af1a-0fefc17329a2",
   "metadata": {},
   "outputs": [],
   "source": [
    "import glob\n",
    "\n",
    "import cv2\n",
    "import torch\n",
    "import numpy as np\n",
    "import matplotlib.pyplot as plt\n",
    "\n",
    "from sklearn.decomposition import PCA\n",
    "from sklearn.preprocessing import MinMaxScaler"
   ]
  },
  {
   "cell_type": "code",
   "execution_count": null,
   "id": "d7fb36ea-6333-46a3-aa8d-d1f8e1d26c32",
   "metadata": {},
   "outputs": [
    {
     "name": "stderr",
     "output_type": "stream",
     "text": [
      "Using cache found in /home/rob/.cache/torch/hub/facebookresearch_dinov2_main\n",
      "/home/rob/.cache/torch/hub/facebookresearch_dinov2_main/dinov2/layers/swiglu_ffn.py:51: UserWarning: xFormers is not available (SwiGLU)\n",
      "  warnings.warn(\"xFormers is not available (SwiGLU)\")\n",
      "/home/rob/.cache/torch/hub/facebookresearch_dinov2_main/dinov2/layers/attention.py:33: UserWarning: xFormers is not available (Attention)\n",
      "  warnings.warn(\"xFormers is not available (Attention)\")\n",
      "/home/rob/.cache/torch/hub/facebookresearch_dinov2_main/dinov2/layers/block.py:40: UserWarning: xFormers is not available (Block)\n",
      "  warnings.warn(\"xFormers is not available (Block)\")\n"
     ]
    }
   ],
   "source": [
    "# Load a pre-trained ViT model\n",
    "size = \"large\"\n",
    "\n",
    "backbones = {\n",
    "    \"small\": \"vits14\",\n",
    "    \"base\": \"vitb14\",\n",
    "    \"large\": \"vitl14\",\n",
    "    \"giant\": \"vitg14\",\n",
    "}\n",
    "encoder = torch.hub.load(repo_or_dir=\"facebookresearch/dinov2\", model=f\"dinov2_{backbones[size]}\").cuda()\n",
    "\n",
    "patch_size = encoder.patch_size\n",
    "patch_h, patch_w = 14*50//patch_size, 14*50//patch_size\n",
    "background_threshold = 0.5\n",
    "\n",
    "patch_size, patch_h"
   ]
  },
  {
   "cell_type": "code",
   "execution_count": null,
   "id": "10168f0f-e812-433c-be16-0124b122fd91",
   "metadata": {},
   "outputs": [],
   "source": [
    "# For the example, I took a set of koalas\n",
    "samples = glob.glob('assets/*.png')\n",
    "images = [cv2.cvtColor(cv2.imread(path), cv2.COLOR_BGR2RGB) for path in samples]\n",
    "\n",
    "plt.imshow(images[0])\n",
    "plt.axis('off')\n",
    "plt.show()"
   ]
  },
  {
   "cell_type": "code",
   "execution_count": null,
   "id": "209369d1-638b-4214-bd22-dc56d577112e",
   "metadata": {},
   "outputs": [],
   "source": [
    "# pre-processing the image to pass it through the model; normalizing the input, and fitting\n",
    "# it to required input size a multiple of the patch size.\n",
    "def transform(img):\n",
    "    img = cv2.resize(img, (patch_h * patch_size, patch_w * patch_size)) / 255\n",
    "    img = (img - np.array([0.485, 0.456, 0.406]))/ np.array([0.229, 0.24, 0.225])\n",
    "    img = img.transpose(2, 0, 1)\n",
    "    return np.expand_dims(img, 0).astype(np.float32)\n",
    "\n",
    "transformed_images = [transform(img) for img in images]"
   ]
  },
  {
   "cell_type": "code",
   "execution_count": null,
   "id": "90caef56-d06e-4298-ad12-cdc05264c4d7",
   "metadata": {},
   "outputs": [],
   "source": [
    "x = torch.tensor(np.concatenate(transformed_images)).cuda()\n",
    "\n",
    "# Passing the input through the encoder\n",
    "features_dict = encoder.forward_features(x)\n",
    "features = features_dict['x_norm_patchtokens'].detach().cpu().numpy()\n",
    "features.shape"
   ]
  },
  {
   "cell_type": "code",
   "execution_count": null,
   "id": "bdf8cef6-04bd-4039-b99f-0f7186bef3e3",
   "metadata": {},
   "outputs": [],
   "source": [
    "patch_features = features.reshape(len(images) * patch_h * patch_w, -1)\n",
    "patch_features.shape"
   ]
  },
  {
   "cell_type": "code",
   "execution_count": null,
   "id": "33c7a3c6-fb32-4fba-afb1-b7ec6ccdfdb1",
   "metadata": {},
   "outputs": [],
   "source": [
    "pca = PCA(n_components=3)\n",
    "scaler = MinMaxScaler(clip=True)\n",
    "\n",
    "# First fit to seperate background and foreground\n",
    "pca.fit(patch_features)\n",
    "pca_features = pca.transform(patch_features)\n",
    "\n",
    "# MinMax Scaling\n",
    "scaler.fit(pca_features)\n",
    "pca_features = scaler.transform(pca_features)\n",
    "\n",
    "pca_background = pca_features[:, 0] > background_threshold\n",
    "pca_foreground = ~pca_background\n",
    "\n",
    "# Second fit for the object\n",
    "pca.fit(patch_features[pca_foreground])\n",
    "pca_features_rem = pca.transform(patch_features[pca_foreground])\n",
    "\n",
    "scaler.fit(pca_features_rem)\n",
    "pca_features_rem = scaler.transform(pca_features_rem)\n",
    "\n",
    "pca_features_rgb = np.zeros((len(images) * patch_h * patch_w, 3))\n",
    "pca_features_rgb[pca_background] = 0\n",
    "pca_features_rgb[pca_foreground] = pca_features_rem\n",
    "pca_features_rgb = pca_features_rgb.reshape(len(images), patch_h, patch_w, 3)\n",
    "\n",
    "\n",
    "fig, axes = plt.subplots(2, len(images), figsize=(6 * len(images), 12))\n",
    "\n",
    "for i in range(len(images)):\n",
    "    axes[0, i].imshow(pca_features_rgb[i])\n",
    "    axes[0, i].set_title(f'PCA components')\n",
    "    axes[0, i].axis('off')\n",
    "\n",
    "    # Plot original images\n",
    "    axes[1, i].imshow(images[i])\n",
    "    axes[1, i].set_title(f'Original image')\n",
    "    axes[1, i].axis('off')\n",
    "\n",
    "plt.tight_layout()\n",
    "plt.show()"
   ]
  },
  {
   "cell_type": "markdown",
   "id": "97eee667-52fa-4baa-971a-31f6c3e638ba",
   "metadata": {},
   "source": [
    "Interesting here is that parts of the features which are semantically similar are also captured as such by the model, for example all the ears in the model have roughly the same colour in the PCA RGB component space."
   ]
  },
  {
   "cell_type": "markdown",
   "id": "16d2d8e7-c79d-4302-b0ef-ad2eda189c41",
   "metadata": {},
   "source": [
    "## LoRA Finetuning Comparison\n",
    "\n",
    "So, to finally introduce LoRA the idea behind it is very simple. Instead of finetuning the entire model, we introduce this small set of weights inbetween every block defined by $A_i \\in \\mathbb{R}^{r \\times n}$ and $B_i \\in \\mathbb{R}^{n \\times r}$ multiplying these layers we will get $\\Delta W_i = B_iA_i$. Moreover, we determine the size of these layers by setting a value for rank $r$, usually $r <\\!\\!< min(d, k)$. \n",
    "\n",
    "Then, during training we freeze the original ViT block and add our weight $\\Delta W_i$, ViT_block $h_i$, becomes, \n",
    "$$\n",
    "h_i = W_i x + \\Delta W_i x.\n",
    "$$\n",
    "where $W_i$ are the original weights and we apply this to every block of the encoder. \n",
    "\n",
    "\n",
    "TODO: Show benefits of finetuning with LoRA"
   ]
  },
  {
   "cell_type": "code",
   "execution_count": 16,
   "id": "6b2669b4-a318-4ba0-8100-a35ce6a3e7c6",
   "metadata": {},
   "outputs": [
    {
     "data": {
      "image/png": "[encoded data removed]",
      "text/plain": [
       "<Figure size 1400x700 with 1 Axes>"
      ]
     },
     "metadata": {},
     "output_type": "display_data"
    }
   ],
   "source": [
    "import json\n",
    "\n",
    "def load_json(file_path):\n",
    "    with open(file_path, 'r') as f:\n",
    "        data = json.load(f)\n",
    "    return data\n",
    "\n",
    "lora_val_iou = load_json('output/lora_metrics.json')['val_iou']\n",
    "baseline_val_iou = load_json('output/baseline_metrics.json')['val_iou']\n",
    "\n",
    "lora_epoch = range(1, 20, 2)\n",
    "baseline_epoch = range(1, 20, 2)\n",
    "\n",
    "plt.figure(figsize=(14, 7))\n",
    "\n",
    "plt.subplot(1, 2, 2)\n",
    "plt.plot(lora_epoch, lora_val_iou, 'b-', label='Finetuning LoRA and the head')\n",
    "plt.scatter(lora_epoch, lora_val_iou, c='blue')\n",
    "plt.plot(baseline_epoch, baseline_val_iou, 'g-', label='Finetuning the head')\n",
    "plt.scatter(baseline_epoch, baseline_val_iou, c='green')\n",
    "plt.xlabel('Epochs')\n",
    "plt.ylabel('IoU')\n",
    "plt.title('Validation IoU Comparison between finetuning')\n",
    "plt.legend()\n",
    "\n",
    "plt.tight_layout()\n",
    "plt.show()\n"
   ]
  },
  {
   "cell_type": "markdown",
   "id": "f17b00e5",
   "metadata": {},
   "source": [
    "## Transfer and Adaptation\n",
    "\n",
    "These types of pre-trained models with self-supervised learning show to have good robustness, when corrupting a dataset such as imageNet and using the output of the encoder directly with a linear classification head they show exceptional robustness.\n",
    "\n",
    "TODO: Add experiments"
   ]
  },
  {
   "cell_type": "markdown",
   "id": "5ec0fc3c",
   "metadata": {},
   "source": []
  },
  {
   "cell_type": "markdown",
   "id": "99e1112b",
   "metadata": {},
   "source": [
    "## References\n",
    "Oquab, M., Darcet, T., Moutakanni, T., Vo, H., Szafraniec, M., Khalidov, V., Fernandez, P., Haziza, D., Massa, F., El-Nouby, A., Assran, M., Ballas, N., Galuba, W., Howes, R., Huang, P.-Y., Li, S.-W., Misra, I., Rabbat, M., Sharma, V., … Bojanowski, P. (2024). DINOv2: Learning Robust Visual Features without Supervision (arXiv:2304.07193). arXiv. http://arxiv.org/abs/2304.07193\n",
    "\n",
    "Darcet, T., Oquab, M., Mairal, J., & Bojanowski, P. (2024). Vision Transformers Need Registers (arXiv:2309.16588). arXiv. https://doi.org/10.48550/arXiv.2309.16588\n",
    "\n",
    "Caron, M., Touvron, H., Misra, I., Jégou, H., Mairal, J., Bojanowski, P., & Joulin, A. (2021). Emerging Properties in Self-Supervised Vision Transformers (arXiv:2104.14294). arXiv. https://doi.org/10.48550/arXiv.2104.14294\n",
    "\n",
    "Dosovitskiy, A., Beyer, L., Kolesnikov, A., Weissenborn, D., Zhai, X., Unterthiner, T., Dehghani, M., Minderer, M., Heigold, G., Gelly, S., Uszkoreit, J., & Houlsby, N. (2021). An Image is Worth 16x16 Words: Transformers for Image Recognition at Scale (arXiv:2010.11929). arXiv. https://doi.org/10.48550/arXiv.2010.11929"
   ]
  }
 ],
 "metadata": {
  "kernelspec": {
   "display_name": "Python 3 (ipykernel)",
   "language": "python",
   "name": "python3"
  },
  "language_info": {
   "codemirror_mode": {
    "name": "ipython",
    "version": 3
   },
   "file_extension": ".py",
   "mimetype": "text/x-python",
   "name": "python",
   "nbconvert_exporter": "python",
   "pygments_lexer": "ipython3",
   "version": "3.11.9"
  }
 },
 "nbformat": 4,
 "nbformat_minor": 5
}
